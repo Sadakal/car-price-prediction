{
 "cells": [
  {
   "cell_type": "code",
   "execution_count": 1,
   "id": "e32de171",
   "metadata": {},
   "outputs": [],
   "source": [
    "import pandas as pd\n",
    "import numpy as np\n",
    "import seaborn as sns\n",
    "import matplotlib as plt\n",
    "from sklearn.model_selection import train_test_split\n"
   ]
  },
  {
   "cell_type": "code",
   "execution_count": 2,
   "id": "ae3c4c9a",
   "metadata": {},
   "outputs": [],
   "source": [
    "df=pd.read_csv('Car_data.csv')"
   ]
  },
  {
   "cell_type": "code",
   "execution_count": 3,
   "id": "a7b49f3b",
   "metadata": {
    "scrolled": true
   },
   "outputs": [
    {
     "data": {
      "text/plain": [
       "Make                    0\n",
       "Model                   0\n",
       "Year                    0\n",
       "Engine Fuel Type        3\n",
       "Engine HP              69\n",
       "Engine Cylinders       30\n",
       "Transmission Type       0\n",
       "Driven_Wheels           0\n",
       "Number of Doors         6\n",
       "Market Category      3742\n",
       "Vehicle Size            0\n",
       "Vehicle Style           0\n",
       "highway MPG             0\n",
       "city mpg                0\n",
       "Popularity              0\n",
       "MSRP                    0\n",
       "dtype: int64"
      ]
     },
     "execution_count": 3,
     "metadata": {},
     "output_type": "execute_result"
    }
   ],
   "source": [
    "df.isnull().sum()"
   ]
  },
  {
   "cell_type": "code",
   "execution_count": 4,
   "id": "06f3ec2e",
   "metadata": {},
   "outputs": [
    {
     "data": {
      "text/plain": [
       "array(['Factory Tuner,Luxury,High-Performance', 'Luxury,Performance',\n",
       "       'Luxury,High-Performance', 'Luxury', 'Performance', 'Flex Fuel',\n",
       "       'Flex Fuel,Performance', nan, 'Hatchback',\n",
       "       'Hatchback,Luxury,Performance', 'Hatchback,Luxury',\n",
       "       'Luxury,High-Performance,Hybrid', 'Diesel,Luxury',\n",
       "       'Hatchback,Performance', 'Hatchback,Factory Tuner,Performance',\n",
       "       'High-Performance', 'Factory Tuner,High-Performance',\n",
       "       'Exotic,High-Performance', 'Exotic,Factory Tuner,High-Performance',\n",
       "       'Factory Tuner,Performance', 'Crossover', 'Exotic,Luxury',\n",
       "       'Exotic,Luxury,High-Performance', 'Exotic,Luxury,Performance',\n",
       "       'Factory Tuner,Luxury,Performance', 'Flex Fuel,Luxury',\n",
       "       'Crossover,Luxury', 'Hatchback,Factory Tuner,Luxury,Performance',\n",
       "       'Crossover,Hatchback', 'Hybrid', 'Luxury,Performance,Hybrid',\n",
       "       'Crossover,Luxury,Performance,Hybrid',\n",
       "       'Crossover,Luxury,Performance',\n",
       "       'Exotic,Factory Tuner,Luxury,High-Performance',\n",
       "       'Flex Fuel,Luxury,High-Performance', 'Crossover,Flex Fuel',\n",
       "       'Diesel', 'Hatchback,Diesel', 'Crossover,Luxury,Diesel',\n",
       "       'Crossover,Luxury,High-Performance',\n",
       "       'Exotic,Flex Fuel,Factory Tuner,Luxury,High-Performance',\n",
       "       'Exotic,Flex Fuel,Luxury,High-Performance',\n",
       "       'Exotic,Factory Tuner,Luxury,Performance', 'Hatchback,Hybrid',\n",
       "       'Crossover,Hybrid', 'Hatchback,Luxury,Hybrid',\n",
       "       'Flex Fuel,Luxury,Performance', 'Crossover,Performance',\n",
       "       'Luxury,Hybrid', 'Crossover,Flex Fuel,Luxury,Performance',\n",
       "       'Crossover,Flex Fuel,Luxury', 'Crossover,Flex Fuel,Performance',\n",
       "       'Hatchback,Factory Tuner,High-Performance', 'Hatchback,Flex Fuel',\n",
       "       'Factory Tuner,Luxury',\n",
       "       'Crossover,Factory Tuner,Luxury,High-Performance',\n",
       "       'Crossover,Factory Tuner,Luxury,Performance',\n",
       "       'Crossover,Hatchback,Factory Tuner,Performance',\n",
       "       'Crossover,Hatchback,Performance', 'Flex Fuel,Hybrid',\n",
       "       'Flex Fuel,Performance,Hybrid',\n",
       "       'Crossover,Exotic,Luxury,High-Performance',\n",
       "       'Crossover,Exotic,Luxury,Performance', 'Exotic,Performance',\n",
       "       'Exotic,Luxury,High-Performance,Hybrid', 'Crossover,Luxury,Hybrid',\n",
       "       'Flex Fuel,Factory Tuner,Luxury,High-Performance',\n",
       "       'Performance,Hybrid', 'Crossover,Factory Tuner,Performance',\n",
       "       'Crossover,Diesel', 'Flex Fuel,Diesel',\n",
       "       'Crossover,Hatchback,Luxury'], dtype=object)"
      ]
     },
     "execution_count": 4,
     "metadata": {},
     "output_type": "execute_result"
    }
   ],
   "source": [
    "df['Market Category'].unique()"
   ]
  },
  {
   "cell_type": "code",
   "execution_count": 5,
   "id": "89d40a7f",
   "metadata": {},
   "outputs": [],
   "source": [
    "market_category_mode = df['Market Category'].mode()[0]"
   ]
  },
  {
   "cell_type": "code",
   "execution_count": 6,
   "id": "bae6b07f",
   "metadata": {},
   "outputs": [
    {
     "data": {
      "text/plain": [
       "'Crossover'"
      ]
     },
     "execution_count": 6,
     "metadata": {},
     "output_type": "execute_result"
    }
   ],
   "source": [
    "market_category_mode"
   ]
  },
  {
   "cell_type": "code",
   "execution_count": 7,
   "id": "b1e9bbca",
   "metadata": {},
   "outputs": [],
   "source": [
    "fuel_type_mode = df['Engine Fuel Type'].mode()[0]\n",
    "hp_mode = df['Engine HP'].mode()[0]\n",
    "cylinders_mode = df['Engine Cylinders'].mode()[0]"
   ]
  },
  {
   "cell_type": "code",
   "execution_count": 8,
   "id": "36ec4a66",
   "metadata": {},
   "outputs": [],
   "source": [
    "df['Engine Fuel Type'].fillna(fuel_type_mode, inplace=True)\n",
    "df['Engine HP'].fillna(hp_mode, inplace=True)\n",
    "df['Engine Cylinders'].fillna(cylinders_mode, inplace=True)"
   ]
  },
  {
   "cell_type": "code",
   "execution_count": 9,
   "id": "c96f5b96",
   "metadata": {},
   "outputs": [
    {
     "data": {
      "text/plain": [
       "Make                    0\n",
       "Model                   0\n",
       "Year                    0\n",
       "Engine Fuel Type        0\n",
       "Engine HP               0\n",
       "Engine Cylinders        0\n",
       "Transmission Type       0\n",
       "Driven_Wheels           0\n",
       "Number of Doors         6\n",
       "Market Category      3742\n",
       "Vehicle Size            0\n",
       "Vehicle Style           0\n",
       "highway MPG             0\n",
       "city mpg                0\n",
       "Popularity              0\n",
       "MSRP                    0\n",
       "dtype: int64"
      ]
     },
     "execution_count": 9,
     "metadata": {},
     "output_type": "execute_result"
    }
   ],
   "source": [
    "df.isnull().sum()"
   ]
  },
  {
   "cell_type": "code",
   "execution_count": 10,
   "id": "2264315f",
   "metadata": {},
   "outputs": [],
   "source": [
    "df.dropna(inplace=True)"
   ]
  },
  {
   "cell_type": "code",
   "execution_count": 11,
   "id": "eb6ae6dc",
   "metadata": {},
   "outputs": [
    {
     "data": {
      "text/plain": [
       "Make                 0\n",
       "Model                0\n",
       "Year                 0\n",
       "Engine Fuel Type     0\n",
       "Engine HP            0\n",
       "Engine Cylinders     0\n",
       "Transmission Type    0\n",
       "Driven_Wheels        0\n",
       "Number of Doors      0\n",
       "Market Category      0\n",
       "Vehicle Size         0\n",
       "Vehicle Style        0\n",
       "highway MPG          0\n",
       "city mpg             0\n",
       "Popularity           0\n",
       "MSRP                 0\n",
       "dtype: int64"
      ]
     },
     "execution_count": 11,
     "metadata": {},
     "output_type": "execute_result"
    }
   ],
   "source": [
    "df.isnull().sum()"
   ]
  },
  {
   "cell_type": "code",
   "execution_count": 12,
   "id": "f5b5ffc9",
   "metadata": {},
   "outputs": [],
   "source": [
    "# df.to_csv('cleaned_car_data', index=False)"
   ]
  },
  {
   "cell_type": "code",
   "execution_count": 13,
   "id": "fcc16bad",
   "metadata": {},
   "outputs": [
    {
     "data": {
      "text/plain": [
       "<AxesSubplot:>"
      ]
     },
     "execution_count": 13,
     "metadata": {},
     "output_type": "execute_result"
    },
    {
     "data": {
      "image/png": "[encoded data removed]",
      "text/plain": [
       "<Figure size 432x288 with 2 Axes>"
      ]
     },
     "metadata": {
      "needs_background": "light"
     },
     "output_type": "display_data"
    }
   ],
   "source": [
    "correlation_matrix = df.corr()\n",
    "sns.heatmap(correlation_matrix, annot=True, cmap='coolwarm')"
   ]
  },
  {
   "cell_type": "code",
   "execution_count": 14,
   "id": "63bed14e",
   "metadata": {},
   "outputs": [
    {
     "data": {
      "image/png": "[encoded data removed]",
      "text/plain": [
       "<Figure size 720x720 with 1 Axes>"
      ]
     },
     "metadata": {
      "needs_background": "light"
     },
     "output_type": "display_data"
    }
   ],
   "source": [
    "import matplotlib.pyplot as plt\n",
    "plt.figure(figsize=(10,10))\n",
    "sns.boxplot(data=df)\n",
    "\n",
    "# Set labels and title\n",
    "plt.xlabel('Column Name')\n",
    "plt.ylabel('Value')\n",
    "plt.title('Box Plot for Each Column')\n",
    "\n",
    "# Rotate x-axis labels for better visibility (optional)\n",
    "plt.xticks(rotation=45)\n",
    "# Display the plot\n",
    "plt.show()"
   ]
  },
  {
   "cell_type": "code",
   "execution_count": 15,
   "id": "fce99b77",
   "metadata": {},
   "outputs": [
    {
     "name": "stdout",
     "output_type": "stream",
     "text": [
      "Engine HP           0.655327\n",
      "Engine Cylinders    0.577285\n",
      "highway MPG         0.212748\n",
      "city mpg            0.197023\n",
      "Number of Doors     0.184111\n",
      "Year                0.133773\n",
      "Popularity          0.052398\n",
      "Name: MSRP, dtype: float64\n"
     ]
    }
   ],
   "source": [
    "corr_matrix = df.corr()\n",
    "correlations = corr_matrix['MSRP']\n",
    "sorted_corr = correlations.abs().sort_values(ascending=False)\n",
    "top_10 = sorted_corr[1:11]\n",
    "print(top_10)"
   ]
  },
  {
   "cell_type": "code",
   "execution_count": 16,
   "id": "09ff78e1",
   "metadata": {},
   "outputs": [],
   "source": [
    "Q1 = df['MSRP'].quantile(0.10)\n",
    "Q3 = df['MSRP'].quantile(0.60)\n",
    "\n",
    "# Compute the interquartile range (IQR)\n",
    "IQR = Q3 - Q1\n",
    "\n",
    "# Define the lower and upper bounds for outliers\n",
    "lower_bound = Q1 - 1.5 * IQR\n",
    "upper_bound = Q3 + 1.5 * IQR\n",
    "\n",
    "# Remove outliers from the data\n",
    "df = df[(df['MSRP'] >= lower_bound) & (df['MSRP'] <= upper_bound)]\n"
   ]
  },
  {
   "cell_type": "code",
   "execution_count": 17,
   "id": "1c506a23",
   "metadata": {},
   "outputs": [
    {
     "data": {
      "image/png": "[encoded data removed]",
      "text/plain": [
       "<Figure size 720x720 with 1 Axes>"
      ]
     },
     "metadata": {
      "needs_background": "light"
     },
     "output_type": "display_data"
    }
   ],
   "source": [
    "plt.figure(figsize=(10,10))\n",
    "sns.boxplot(data=df)\n",
    "\n",
    "# Set labels and title\n",
    "plt.xlabel('Column Name')\n",
    "plt.ylabel('Value')\n",
    "plt.title('Box Plot for Each Column')\n",
    "\n",
    "# Rotate x-axis labels for better visibility (optional)\n",
    "plt.xticks(rotation=45)\n",
    "# Display the plot\n",
    "plt.show()"
   ]
  },
  {
   "cell_type": "code",
   "execution_count": 18,
   "id": "6642a04d",
   "metadata": {},
   "outputs": [
    {
     "data": {
      "text/html": [
       "<div>\n",
       "<style scoped>\n",
       "    .dataframe tbody tr th:only-of-type {\n",
       "        vertical-align: middle;\n",
       "    }\n",
       "\n",
       "    .dataframe tbody tr th {\n",
       "        vertical-align: top;\n",
       "    }\n",
       "\n",
       "    .dataframe thead th {\n",
       "        text-align: right;\n",
       "    }\n",
       "</style>\n",
       "<table border=\"1\" class=\"dataframe\">\n",
       "  <thead>\n",
       "    <tr style=\"text-align: right;\">\n",
       "      <th></th>\n",
       "      <th>Make</th>\n",
       "      <th>Model</th>\n",
       "      <th>Year</th>\n",
       "      <th>Engine Fuel Type</th>\n",
       "      <th>Engine HP</th>\n",
       "      <th>Engine Cylinders</th>\n",
       "      <th>Transmission Type</th>\n",
       "      <th>Driven_Wheels</th>\n",
       "      <th>Number of Doors</th>\n",
       "      <th>Market Category</th>\n",
       "      <th>Vehicle Size</th>\n",
       "      <th>Vehicle Style</th>\n",
       "      <th>highway MPG</th>\n",
       "      <th>city mpg</th>\n",
       "      <th>Popularity</th>\n",
       "      <th>MSRP</th>\n",
       "    </tr>\n",
       "  </thead>\n",
       "  <tbody>\n",
       "    <tr>\n",
       "      <th>0</th>\n",
       "      <td>BMW</td>\n",
       "      <td>1 Series M</td>\n",
       "      <td>2011</td>\n",
       "      <td>premium unleaded (required)</td>\n",
       "      <td>335.0</td>\n",
       "      <td>6.0</td>\n",
       "      <td>MANUAL</td>\n",
       "      <td>rear wheel drive</td>\n",
       "      <td>2.0</td>\n",
       "      <td>Factory Tuner,Luxury,High-Performance</td>\n",
       "      <td>Compact</td>\n",
       "      <td>Coupe</td>\n",
       "      <td>26</td>\n",
       "      <td>19</td>\n",
       "      <td>3916</td>\n",
       "      <td>46135</td>\n",
       "    </tr>\n",
       "    <tr>\n",
       "      <th>1</th>\n",
       "      <td>BMW</td>\n",
       "      <td>1 Series</td>\n",
       "      <td>2011</td>\n",
       "      <td>premium unleaded (required)</td>\n",
       "      <td>300.0</td>\n",
       "      <td>6.0</td>\n",
       "      <td>MANUAL</td>\n",
       "      <td>rear wheel drive</td>\n",
       "      <td>2.0</td>\n",
       "      <td>Luxury,Performance</td>\n",
       "      <td>Compact</td>\n",
       "      <td>Convertible</td>\n",
       "      <td>28</td>\n",
       "      <td>19</td>\n",
       "      <td>3916</td>\n",
       "      <td>40650</td>\n",
       "    </tr>\n",
       "    <tr>\n",
       "      <th>2</th>\n",
       "      <td>BMW</td>\n",
       "      <td>1 Series</td>\n",
       "      <td>2011</td>\n",
       "      <td>premium unleaded (required)</td>\n",
       "      <td>300.0</td>\n",
       "      <td>6.0</td>\n",
       "      <td>MANUAL</td>\n",
       "      <td>rear wheel drive</td>\n",
       "      <td>2.0</td>\n",
       "      <td>Luxury,High-Performance</td>\n",
       "      <td>Compact</td>\n",
       "      <td>Coupe</td>\n",
       "      <td>28</td>\n",
       "      <td>20</td>\n",
       "      <td>3916</td>\n",
       "      <td>36350</td>\n",
       "    </tr>\n",
       "    <tr>\n",
       "      <th>3</th>\n",
       "      <td>BMW</td>\n",
       "      <td>1 Series</td>\n",
       "      <td>2011</td>\n",
       "      <td>premium unleaded (required)</td>\n",
       "      <td>230.0</td>\n",
       "      <td>6.0</td>\n",
       "      <td>MANUAL</td>\n",
       "      <td>rear wheel drive</td>\n",
       "      <td>2.0</td>\n",
       "      <td>Luxury,Performance</td>\n",
       "      <td>Compact</td>\n",
       "      <td>Coupe</td>\n",
       "      <td>28</td>\n",
       "      <td>18</td>\n",
       "      <td>3916</td>\n",
       "      <td>29450</td>\n",
       "    </tr>\n",
       "    <tr>\n",
       "      <th>4</th>\n",
       "      <td>BMW</td>\n",
       "      <td>1 Series</td>\n",
       "      <td>2011</td>\n",
       "      <td>premium unleaded (required)</td>\n",
       "      <td>230.0</td>\n",
       "      <td>6.0</td>\n",
       "      <td>MANUAL</td>\n",
       "      <td>rear wheel drive</td>\n",
       "      <td>2.0</td>\n",
       "      <td>Luxury</td>\n",
       "      <td>Compact</td>\n",
       "      <td>Convertible</td>\n",
       "      <td>28</td>\n",
       "      <td>18</td>\n",
       "      <td>3916</td>\n",
       "      <td>34500</td>\n",
       "    </tr>\n",
       "  </tbody>\n",
       "</table>\n",
       "</div>"
      ],
      "text/plain": [
       "  Make       Model  Year             Engine Fuel Type  Engine HP  \\\n",
       "0  BMW  1 Series M  2011  premium unleaded (required)      335.0   \n",
       "1  BMW    1 Series  2011  premium unleaded (required)      300.0   \n",
       "2  BMW    1 Series  2011  premium unleaded (required)      300.0   \n",
       "3  BMW    1 Series  2011  premium unleaded (required)      230.0   \n",
       "4  BMW    1 Series  2011  premium unleaded (required)      230.0   \n",
       "\n",
       "   Engine Cylinders Transmission Type     Driven_Wheels  Number of Doors  \\\n",
       "0               6.0            MANUAL  rear wheel drive              2.0   \n",
       "1               6.0            MANUAL  rear wheel drive              2.0   \n",
       "2               6.0            MANUAL  rear wheel drive              2.0   \n",
       "3               6.0            MANUAL  rear wheel drive              2.0   \n",
       "4               6.0            MANUAL  rear wheel drive              2.0   \n",
       "\n",
       "                         Market Category Vehicle Size Vehicle Style  \\\n",
       "0  Factory Tuner,Luxury,High-Performance      Compact         Coupe   \n",
       "1                     Luxury,Performance      Compact   Convertible   \n",
       "2                Luxury,High-Performance      Compact         Coupe   \n",
       "3                     Luxury,Performance      Compact         Coupe   \n",
       "4                                 Luxury      Compact   Convertible   \n",
       "\n",
       "   highway MPG  city mpg  Popularity   MSRP  \n",
       "0           26        19        3916  46135  \n",
       "1           28        19        3916  40650  \n",
       "2           28        20        3916  36350  \n",
       "3           28        18        3916  29450  \n",
       "4           28        18        3916  34500  "
      ]
     },
     "execution_count": 18,
     "metadata": {},
     "output_type": "execute_result"
    }
   ],
   "source": [
    "df.head()"
   ]
  },
  {
   "cell_type": "code",
   "execution_count": 19,
   "id": "a9846342",
   "metadata": {},
   "outputs": [
    {
     "name": "stdout",
     "output_type": "stream",
     "text": [
      "4\n",
      "3\n",
      "16\n"
     ]
    }
   ],
   "source": [
    "df['Engine Fuel Type'].unique().size\n",
    "df['Transmission Type'].unique().size\n",
    "print(df['Driven_Wheels'].unique().size)\n",
    "print(df['Vehicle Size'].unique().size)\n",
    "print(df['Vehicle Style'].unique().size)"
   ]
  },
  {
   "cell_type": "code",
   "execution_count": 20,
   "id": "af104009",
   "metadata": {},
   "outputs": [],
   "source": [
    "from sklearn.preprocessing import LabelEncoder\n",
    "label_encoder = LabelEncoder()\n",
    "\n",
    "# Fit and transform the 'size' column to perform label encoding\n",
    "df['Engine Fuel Type1'] = label_encoder.fit_transform(df['Engine Fuel Type'])\n",
    "df.drop('Engine Fuel Type',axis=1,inplace=True)\n",
    "\n",
    "df['Transmission Type1'] = label_encoder.fit_transform(df['Transmission Type'])\n",
    "df.drop('Transmission Type',axis=1,inplace=True)\n",
    "df['Driven_Wheels1'] = label_encoder.fit_transform(df['Driven_Wheels'])\n",
    "df.drop('Driven_Wheels',axis=1,inplace=True)\n",
    "df['Vehicle Size1'] = label_encoder.fit_transform(df['Vehicle Size'])\n",
    "df.drop('Vehicle Size',axis=1,inplace=True)\n",
    "df['Vehicle Style1'] = label_encoder.fit_transform(df['Vehicle Style'])\n",
    "df.drop('Vehicle Style',axis=1,inplace=True)"
   ]
  },
  {
   "cell_type": "code",
   "execution_count": 21,
   "id": "1babb0b1",
   "metadata": {},
   "outputs": [
    {
     "name": "stdout",
     "output_type": "stream",
     "text": [
      "Engine HP             0.696518\n",
      "Year                  0.608963\n",
      "Engine Cylinders      0.351281\n",
      "Transmission Type1    0.305609\n",
      "Vehicle Size1         0.280885\n",
      "Engine Fuel Type1     0.255227\n",
      "Driven_Wheels1        0.174677\n",
      "Vehicle Style1        0.147442\n",
      "Number of Doors       0.126633\n",
      "city mpg              0.104518\n",
      "Name: MSRP, dtype: float64\n"
     ]
    }
   ],
   "source": [
    "corr_matrix = df.corr()\n",
    "correlations = corr_matrix['MSRP']\n",
    "sorted_corr = correlations.abs().sort_values(ascending=False)\n",
    "top_10 = sorted_corr[1:11]\n",
    "print(top_10)"
   ]
  },
  {
   "cell_type": "code",
   "execution_count": 22,
   "id": "5e6266b1",
   "metadata": {},
   "outputs": [],
   "source": [
    "\n",
    "# Use the Pandas str.get_dummies() function for One-Hot Encoding\n",
    "one_hot_encoded = df['Market Category'].str.get_dummies(sep=',')\n",
    "\n",
    "# Concatenate the one-hot encoded columns with the original data\n",
    "df = pd.concat([df, one_hot_encoded], axis=1)\n",
    "\n",
    "# Drop the original 'market_category' column as it is no longer needed\n",
    "df.drop('Market Category', axis=1, inplace=True)"
   ]
  },
  {
   "cell_type": "code",
   "execution_count": 23,
   "id": "7fefaef7",
   "metadata": {},
   "outputs": [
    {
     "data": {
      "text/html": [
       "<div>\n",
       "<style scoped>\n",
       "    .dataframe tbody tr th:only-of-type {\n",
       "        vertical-align: middle;\n",
       "    }\n",
       "\n",
       "    .dataframe tbody tr th {\n",
       "        vertical-align: top;\n",
       "    }\n",
       "\n",
       "    .dataframe thead th {\n",
       "        text-align: right;\n",
       "    }\n",
       "</style>\n",
       "<table border=\"1\" class=\"dataframe\">\n",
       "  <thead>\n",
       "    <tr style=\"text-align: right;\">\n",
       "      <th></th>\n",
       "      <th>Make</th>\n",
       "      <th>Model</th>\n",
       "      <th>Year</th>\n",
       "      <th>Engine HP</th>\n",
       "      <th>Engine Cylinders</th>\n",
       "      <th>Number of Doors</th>\n",
       "      <th>highway MPG</th>\n",
       "      <th>city mpg</th>\n",
       "      <th>Popularity</th>\n",
       "      <th>MSRP</th>\n",
       "      <th>...</th>\n",
       "      <th>Crossover</th>\n",
       "      <th>Diesel</th>\n",
       "      <th>Exotic</th>\n",
       "      <th>Factory Tuner</th>\n",
       "      <th>Flex Fuel</th>\n",
       "      <th>Hatchback</th>\n",
       "      <th>High-Performance</th>\n",
       "      <th>Hybrid</th>\n",
       "      <th>Luxury</th>\n",
       "      <th>Performance</th>\n",
       "    </tr>\n",
       "  </thead>\n",
       "  <tbody>\n",
       "    <tr>\n",
       "      <th>0</th>\n",
       "      <td>BMW</td>\n",
       "      <td>1 Series M</td>\n",
       "      <td>2011</td>\n",
       "      <td>335.0</td>\n",
       "      <td>6.0</td>\n",
       "      <td>2.0</td>\n",
       "      <td>26</td>\n",
       "      <td>19</td>\n",
       "      <td>3916</td>\n",
       "      <td>46135</td>\n",
       "      <td>...</td>\n",
       "      <td>0</td>\n",
       "      <td>0</td>\n",
       "      <td>0</td>\n",
       "      <td>1</td>\n",
       "      <td>0</td>\n",
       "      <td>0</td>\n",
       "      <td>1</td>\n",
       "      <td>0</td>\n",
       "      <td>1</td>\n",
       "      <td>0</td>\n",
       "    </tr>\n",
       "    <tr>\n",
       "      <th>1</th>\n",
       "      <td>BMW</td>\n",
       "      <td>1 Series</td>\n",
       "      <td>2011</td>\n",
       "      <td>300.0</td>\n",
       "      <td>6.0</td>\n",
       "      <td>2.0</td>\n",
       "      <td>28</td>\n",
       "      <td>19</td>\n",
       "      <td>3916</td>\n",
       "      <td>40650</td>\n",
       "      <td>...</td>\n",
       "      <td>0</td>\n",
       "      <td>0</td>\n",
       "      <td>0</td>\n",
       "      <td>0</td>\n",
       "      <td>0</td>\n",
       "      <td>0</td>\n",
       "      <td>0</td>\n",
       "      <td>0</td>\n",
       "      <td>1</td>\n",
       "      <td>1</td>\n",
       "    </tr>\n",
       "    <tr>\n",
       "      <th>2</th>\n",
       "      <td>BMW</td>\n",
       "      <td>1 Series</td>\n",
       "      <td>2011</td>\n",
       "      <td>300.0</td>\n",
       "      <td>6.0</td>\n",
       "      <td>2.0</td>\n",
       "      <td>28</td>\n",
       "      <td>20</td>\n",
       "      <td>3916</td>\n",
       "      <td>36350</td>\n",
       "      <td>...</td>\n",
       "      <td>0</td>\n",
       "      <td>0</td>\n",
       "      <td>0</td>\n",
       "      <td>0</td>\n",
       "      <td>0</td>\n",
       "      <td>0</td>\n",
       "      <td>1</td>\n",
       "      <td>0</td>\n",
       "      <td>1</td>\n",
       "      <td>0</td>\n",
       "    </tr>\n",
       "    <tr>\n",
       "      <th>3</th>\n",
       "      <td>BMW</td>\n",
       "      <td>1 Series</td>\n",
       "      <td>2011</td>\n",
       "      <td>230.0</td>\n",
       "      <td>6.0</td>\n",
       "      <td>2.0</td>\n",
       "      <td>28</td>\n",
       "      <td>18</td>\n",
       "      <td>3916</td>\n",
       "      <td>29450</td>\n",
       "      <td>...</td>\n",
       "      <td>0</td>\n",
       "      <td>0</td>\n",
       "      <td>0</td>\n",
       "      <td>0</td>\n",
       "      <td>0</td>\n",
       "      <td>0</td>\n",
       "      <td>0</td>\n",
       "      <td>0</td>\n",
       "      <td>1</td>\n",
       "      <td>1</td>\n",
       "    </tr>\n",
       "    <tr>\n",
       "      <th>4</th>\n",
       "      <td>BMW</td>\n",
       "      <td>1 Series</td>\n",
       "      <td>2011</td>\n",
       "      <td>230.0</td>\n",
       "      <td>6.0</td>\n",
       "      <td>2.0</td>\n",
       "      <td>28</td>\n",
       "      <td>18</td>\n",
       "      <td>3916</td>\n",
       "      <td>34500</td>\n",
       "      <td>...</td>\n",
       "      <td>0</td>\n",
       "      <td>0</td>\n",
       "      <td>0</td>\n",
       "      <td>0</td>\n",
       "      <td>0</td>\n",
       "      <td>0</td>\n",
       "      <td>0</td>\n",
       "      <td>0</td>\n",
       "      <td>1</td>\n",
       "      <td>0</td>\n",
       "    </tr>\n",
       "  </tbody>\n",
       "</table>\n",
       "<p>5 rows × 25 columns</p>\n",
       "</div>"
      ],
      "text/plain": [
       "  Make       Model  Year  Engine HP  Engine Cylinders  Number of Doors  \\\n",
       "0  BMW  1 Series M  2011      335.0               6.0              2.0   \n",
       "1  BMW    1 Series  2011      300.0               6.0              2.0   \n",
       "2  BMW    1 Series  2011      300.0               6.0              2.0   \n",
       "3  BMW    1 Series  2011      230.0               6.0              2.0   \n",
       "4  BMW    1 Series  2011      230.0               6.0              2.0   \n",
       "\n",
       "   highway MPG  city mpg  Popularity   MSRP  ...  Crossover  Diesel  Exotic  \\\n",
       "0           26        19        3916  46135  ...          0       0       0   \n",
       "1           28        19        3916  40650  ...          0       0       0   \n",
       "2           28        20        3916  36350  ...          0       0       0   \n",
       "3           28        18        3916  29450  ...          0       0       0   \n",
       "4           28        18        3916  34500  ...          0       0       0   \n",
       "\n",
       "   Factory Tuner  Flex Fuel  Hatchback  High-Performance  Hybrid  Luxury  \\\n",
       "0              1          0          0                 1       0       1   \n",
       "1              0          0          0                 0       0       1   \n",
       "2              0          0          0                 1       0       1   \n",
       "3              0          0          0                 0       0       1   \n",
       "4              0          0          0                 0       0       1   \n",
       "\n",
       "   Performance  \n",
       "0            0  \n",
       "1            1  \n",
       "2            0  \n",
       "3            1  \n",
       "4            0  \n",
       "\n",
       "[5 rows x 25 columns]"
      ]
     },
     "execution_count": 23,
     "metadata": {},
     "output_type": "execute_result"
    }
   ],
   "source": [
    "df.head()"
   ]
  },
  {
   "cell_type": "code",
   "execution_count": null,
   "id": "eb1330d8",
   "metadata": {},
   "outputs": [],
   "source": [
    "\n",
    "\n"
   ]
  },
  {
   "cell_type": "code",
   "execution_count": null,
   "id": "f2c2fd5b",
   "metadata": {},
   "outputs": [],
   "source": []
  },
  {
   "cell_type": "code",
   "execution_count": 24,
   "id": "4377abae",
   "metadata": {},
   "outputs": [],
   "source": [
    "# df['Make'].unique().size\n",
    "# df['Model'].unique().size\n",
    "df['Make1'] = label_encoder.fit_transform(df['Make'])\n",
    "df.drop('Make',axis=1,inplace=True)\n",
    "df['Model1'] = label_encoder.fit_transform(df['Model'])\n",
    "df.drop('Model',axis=1,inplace=True)"
   ]
  },
  {
   "cell_type": "code",
   "execution_count": 25,
   "id": "667e1624",
   "metadata": {},
   "outputs": [
    {
     "data": {
      "text/html": [
       "<div>\n",
       "<style scoped>\n",
       "    .dataframe tbody tr th:only-of-type {\n",
       "        vertical-align: middle;\n",
       "    }\n",
       "\n",
       "    .dataframe tbody tr th {\n",
       "        vertical-align: top;\n",
       "    }\n",
       "\n",
       "    .dataframe thead th {\n",
       "        text-align: right;\n",
       "    }\n",
       "</style>\n",
       "<table border=\"1\" class=\"dataframe\">\n",
       "  <thead>\n",
       "    <tr style=\"text-align: right;\">\n",
       "      <th></th>\n",
       "      <th>Year</th>\n",
       "      <th>Engine HP</th>\n",
       "      <th>Engine Cylinders</th>\n",
       "      <th>Number of Doors</th>\n",
       "      <th>highway MPG</th>\n",
       "      <th>city mpg</th>\n",
       "      <th>Popularity</th>\n",
       "      <th>MSRP</th>\n",
       "      <th>Engine Fuel Type1</th>\n",
       "      <th>Transmission Type1</th>\n",
       "      <th>...</th>\n",
       "      <th>Exotic</th>\n",
       "      <th>Factory Tuner</th>\n",
       "      <th>Flex Fuel</th>\n",
       "      <th>Hatchback</th>\n",
       "      <th>High-Performance</th>\n",
       "      <th>Hybrid</th>\n",
       "      <th>Luxury</th>\n",
       "      <th>Performance</th>\n",
       "      <th>Make1</th>\n",
       "      <th>Model1</th>\n",
       "    </tr>\n",
       "  </thead>\n",
       "  <tbody>\n",
       "    <tr>\n",
       "      <th>0</th>\n",
       "      <td>2011</td>\n",
       "      <td>335.0</td>\n",
       "      <td>6.0</td>\n",
       "      <td>2.0</td>\n",
       "      <td>26</td>\n",
       "      <td>19</td>\n",
       "      <td>3916</td>\n",
       "      <td>46135</td>\n",
       "      <td>7</td>\n",
       "      <td>3</td>\n",
       "      <td>...</td>\n",
       "      <td>0</td>\n",
       "      <td>1</td>\n",
       "      <td>0</td>\n",
       "      <td>0</td>\n",
       "      <td>1</td>\n",
       "      <td>0</td>\n",
       "      <td>1</td>\n",
       "      <td>0</td>\n",
       "      <td>3</td>\n",
       "      <td>1</td>\n",
       "    </tr>\n",
       "    <tr>\n",
       "      <th>1</th>\n",
       "      <td>2011</td>\n",
       "      <td>300.0</td>\n",
       "      <td>6.0</td>\n",
       "      <td>2.0</td>\n",
       "      <td>28</td>\n",
       "      <td>19</td>\n",
       "      <td>3916</td>\n",
       "      <td>40650</td>\n",
       "      <td>7</td>\n",
       "      <td>3</td>\n",
       "      <td>...</td>\n",
       "      <td>0</td>\n",
       "      <td>0</td>\n",
       "      <td>0</td>\n",
       "      <td>0</td>\n",
       "      <td>0</td>\n",
       "      <td>0</td>\n",
       "      <td>1</td>\n",
       "      <td>1</td>\n",
       "      <td>3</td>\n",
       "      <td>0</td>\n",
       "    </tr>\n",
       "    <tr>\n",
       "      <th>2</th>\n",
       "      <td>2011</td>\n",
       "      <td>300.0</td>\n",
       "      <td>6.0</td>\n",
       "      <td>2.0</td>\n",
       "      <td>28</td>\n",
       "      <td>20</td>\n",
       "      <td>3916</td>\n",
       "      <td>36350</td>\n",
       "      <td>7</td>\n",
       "      <td>3</td>\n",
       "      <td>...</td>\n",
       "      <td>0</td>\n",
       "      <td>0</td>\n",
       "      <td>0</td>\n",
       "      <td>0</td>\n",
       "      <td>1</td>\n",
       "      <td>0</td>\n",
       "      <td>1</td>\n",
       "      <td>0</td>\n",
       "      <td>3</td>\n",
       "      <td>0</td>\n",
       "    </tr>\n",
       "    <tr>\n",
       "      <th>3</th>\n",
       "      <td>2011</td>\n",
       "      <td>230.0</td>\n",
       "      <td>6.0</td>\n",
       "      <td>2.0</td>\n",
       "      <td>28</td>\n",
       "      <td>18</td>\n",
       "      <td>3916</td>\n",
       "      <td>29450</td>\n",
       "      <td>7</td>\n",
       "      <td>3</td>\n",
       "      <td>...</td>\n",
       "      <td>0</td>\n",
       "      <td>0</td>\n",
       "      <td>0</td>\n",
       "      <td>0</td>\n",
       "      <td>0</td>\n",
       "      <td>0</td>\n",
       "      <td>1</td>\n",
       "      <td>1</td>\n",
       "      <td>3</td>\n",
       "      <td>0</td>\n",
       "    </tr>\n",
       "    <tr>\n",
       "      <th>4</th>\n",
       "      <td>2011</td>\n",
       "      <td>230.0</td>\n",
       "      <td>6.0</td>\n",
       "      <td>2.0</td>\n",
       "      <td>28</td>\n",
       "      <td>18</td>\n",
       "      <td>3916</td>\n",
       "      <td>34500</td>\n",
       "      <td>7</td>\n",
       "      <td>3</td>\n",
       "      <td>...</td>\n",
       "      <td>0</td>\n",
       "      <td>0</td>\n",
       "      <td>0</td>\n",
       "      <td>0</td>\n",
       "      <td>0</td>\n",
       "      <td>0</td>\n",
       "      <td>1</td>\n",
       "      <td>0</td>\n",
       "      <td>3</td>\n",
       "      <td>0</td>\n",
       "    </tr>\n",
       "  </tbody>\n",
       "</table>\n",
       "<p>5 rows × 25 columns</p>\n",
       "</div>"
      ],
      "text/plain": [
       "   Year  Engine HP  Engine Cylinders  Number of Doors  highway MPG  city mpg  \\\n",
       "0  2011      335.0               6.0              2.0           26        19   \n",
       "1  2011      300.0               6.0              2.0           28        19   \n",
       "2  2011      300.0               6.0              2.0           28        20   \n",
       "3  2011      230.0               6.0              2.0           28        18   \n",
       "4  2011      230.0               6.0              2.0           28        18   \n",
       "\n",
       "   Popularity   MSRP  Engine Fuel Type1  Transmission Type1  ...  Exotic  \\\n",
       "0        3916  46135                  7                   3  ...       0   \n",
       "1        3916  40650                  7                   3  ...       0   \n",
       "2        3916  36350                  7                   3  ...       0   \n",
       "3        3916  29450                  7                   3  ...       0   \n",
       "4        3916  34500                  7                   3  ...       0   \n",
       "\n",
       "   Factory Tuner  Flex Fuel  Hatchback  High-Performance  Hybrid  Luxury  \\\n",
       "0              1          0          0                 1       0       1   \n",
       "1              0          0          0                 0       0       1   \n",
       "2              0          0          0                 1       0       1   \n",
       "3              0          0          0                 0       0       1   \n",
       "4              0          0          0                 0       0       1   \n",
       "\n",
       "   Performance  Make1  Model1  \n",
       "0            0      3       1  \n",
       "1            1      3       0  \n",
       "2            0      3       0  \n",
       "3            1      3       0  \n",
       "4            0      3       0  \n",
       "\n",
       "[5 rows x 25 columns]"
      ]
     },
     "execution_count": 25,
     "metadata": {},
     "output_type": "execute_result"
    }
   ],
   "source": [
    "df.head()"
   ]
  },
  {
   "cell_type": "code",
   "execution_count": 26,
   "id": "37d71019",
   "metadata": {},
   "outputs": [
    {
     "name": "stdout",
     "output_type": "stream",
     "text": [
      "<class 'pandas.core.frame.DataFrame'>\n",
      "Int64Index: 7158 entries, 0 to 11913\n",
      "Data columns (total 25 columns):\n",
      " #   Column              Non-Null Count  Dtype  \n",
      "---  ------              --------------  -----  \n",
      " 0   Year                7158 non-null   int64  \n",
      " 1   Engine HP           7158 non-null   float64\n",
      " 2   Engine Cylinders    7158 non-null   float64\n",
      " 3   Number of Doors     7158 non-null   float64\n",
      " 4   highway MPG         7158 non-null   int64  \n",
      " 5   city mpg            7158 non-null   int64  \n",
      " 6   Popularity          7158 non-null   int64  \n",
      " 7   MSRP                7158 non-null   int64  \n",
      " 8   Engine Fuel Type1   7158 non-null   int32  \n",
      " 9   Transmission Type1  7158 non-null   int32  \n",
      " 10  Driven_Wheels1      7158 non-null   int32  \n",
      " 11  Vehicle Size1       7158 non-null   int32  \n",
      " 12  Vehicle Style1      7158 non-null   int32  \n",
      " 13  Crossover           7158 non-null   int64  \n",
      " 14  Diesel              7158 non-null   int64  \n",
      " 15  Exotic              7158 non-null   int64  \n",
      " 16  Factory Tuner       7158 non-null   int64  \n",
      " 17  Flex Fuel           7158 non-null   int64  \n",
      " 18  Hatchback           7158 non-null   int64  \n",
      " 19  High-Performance    7158 non-null   int64  \n",
      " 20  Hybrid              7158 non-null   int64  \n",
      " 21  Luxury              7158 non-null   int64  \n",
      " 22  Performance         7158 non-null   int64  \n",
      " 23  Make1               7158 non-null   int32  \n",
      " 24  Model1              7158 non-null   int32  \n",
      "dtypes: float64(3), int32(7), int64(15)\n",
      "memory usage: 1.2 MB\n"
     ]
    }
   ],
   "source": [
    "df.info()"
   ]
  },
  {
   "cell_type": "code",
   "execution_count": null,
   "id": "f399d86b",
   "metadata": {},
   "outputs": [],
   "source": []
  },
  {
   "cell_type": "code",
   "execution_count": 27,
   "id": "94a57025",
   "metadata": {},
   "outputs": [],
   "source": [
    "# sns.boxplot(x=df)"
   ]
  },
  {
   "cell_type": "code",
   "execution_count": 28,
   "id": "4eb4ef60",
   "metadata": {},
   "outputs": [
    {
     "data": {
      "image/png": "[encoded data removed]",
      "text/plain": [
       "<Figure size 720x720 with 1 Axes>"
      ]
     },
     "metadata": {
      "needs_background": "light"
     },
     "output_type": "display_data"
    }
   ],
   "source": [
    "import matplotlib.pyplot as plt\n",
    "plt.figure(figsize=(10,10))\n",
    "sns.boxplot(data=df)\n",
    "\n",
    "# Set labels and title\n",
    "plt.xlabel('Column Name')\n",
    "plt.ylabel('Value')\n",
    "plt.title('Box Plot for Each Column')\n",
    "\n",
    "# Rotate x-axis labels for better visibility (optional)\n",
    "plt.xticks(rotation=45)\n",
    "# Display the plot\n",
    "plt.show()"
   ]
  },
  {
   "cell_type": "code",
   "execution_count": 29,
   "id": "812793dd",
   "metadata": {},
   "outputs": [
    {
     "name": "stdout",
     "output_type": "stream",
     "text": [
      "Engine HP             0.696518\n",
      "Year                  0.608963\n",
      "Hatchback             0.386702\n",
      "Engine Cylinders      0.351281\n",
      "Luxury                0.336632\n",
      "High-Performance      0.326115\n",
      "Transmission Type1    0.305609\n",
      "Vehicle Size1         0.280885\n",
      "Engine Fuel Type1     0.255227\n",
      "Make1                 0.226244\n",
      "Name: MSRP, dtype: float64\n"
     ]
    }
   ],
   "source": [
    "corr_matrix = df.corr()\n",
    "correlations = corr_matrix['MSRP']\n",
    "sorted_corr = correlations.abs().sort_values(ascending=False)\n",
    "top_10 = sorted_corr[1:11]\n",
    "print(top_10)"
   ]
  },
  {
   "cell_type": "code",
   "execution_count": 30,
   "id": "183dd166",
   "metadata": {},
   "outputs": [],
   "source": [
    "X=df[['Engine HP',\n",
    "'Engine Cylinders',      \n",
    "'highway MPG',           \n",
    "'city mpg',        \n",
    "'Number of Doors',       \n",
    "'Transmission Type1',    \n",
    "'Year',                  \n",
    "'Vehicle Style1','Popularity',\n",
    "'Engine Fuel Type1']]\n",
    "\n",
    "y=df['MSRP']\n",
    "X_train,X_test,y_train,y_test=train_test_split(X,y,test_size=0.20)"
   ]
  },
  {
   "cell_type": "code",
   "execution_count": 31,
   "id": "171e4760",
   "metadata": {},
   "outputs": [],
   "source": [
    "from sklearn.linear_model import LinearRegression\n",
    "model1 = LinearRegression()"
   ]
  },
  {
   "cell_type": "code",
   "execution_count": 32,
   "id": "f92b5c75",
   "metadata": {},
   "outputs": [],
   "source": [
    "model1.fit(X_train, y_train)\n",
    "y_pred = model1.predict(X_test) "
   ]
  },
  {
   "cell_type": "code",
   "execution_count": 33,
   "id": "6f9ca32a",
   "metadata": {},
   "outputs": [
    {
     "name": "stdout",
     "output_type": "stream",
     "text": [
      "Mean Squared Error: 68296243.91682081\n",
      "R-squared: 0.6910046693156044\n",
      "Root Mean Squared Error: 8264.154156162675\n"
     ]
    }
   ],
   "source": [
    "from sklearn.metrics import mean_squared_error\n",
    "from sklearn.metrics import r2_score\n",
    "\n",
    "mse = mean_squared_error(y_test, y_pred)\n",
    "print(\"Mean Squared Error:\", mse)\n",
    "r2 = r2_score(y_test, y_pred)\n",
    "print(\"R-squared:\", r2)\n",
    "rmse = np.sqrt(mse)\n",
    "print('Root Mean Squared Error:',rmse)"
   ]
  },
  {
   "cell_type": "code",
   "execution_count": 34,
   "id": "ddf52221",
   "metadata": {},
   "outputs": [
    {
     "name": "stdout",
     "output_type": "stream",
     "text": [
      "Predicted values on test set: [31300.  19220.  28492.5 ... 69135.  47975.  42750. ]\n"
     ]
    }
   ],
   "source": [
    "from sklearn.tree import DecisionTreeRegressor\n",
    "model = DecisionTreeRegressor()\n",
    "\n",
    "# Fit the model to the training data\n",
    "model.fit(X_train, y_train)\n",
    "\n",
    "# Make predictions on the testing data\n",
    "predictions = model.predict(X_test)\n",
    "\n",
    "print(\"Predicted values on test set:\", predictions)"
   ]
  },
  {
   "cell_type": "code",
   "execution_count": 35,
   "id": "f4c227e7",
   "metadata": {},
   "outputs": [
    {
     "name": "stdout",
     "output_type": "stream",
     "text": [
      "R-squared: 0.9227516294347218\n"
     ]
    }
   ],
   "source": [
    "r2 = r2_score(y_test, predictions)\n",
    "print(\"R-squared:\", r2)"
   ]
  },
  {
   "cell_type": "code",
   "execution_count": 36,
   "id": "60a2eb83",
   "metadata": {},
   "outputs": [
    {
     "name": "stdout",
     "output_type": "stream",
     "text": [
      "Random Forest R-squared score: 0.9427920871728502\n"
     ]
    }
   ],
   "source": [
    "from sklearn.ensemble import RandomForestRegressor\n",
    "rf_model = RandomForestRegressor()\n",
    "rf_model.fit(X_train, y_train)\n",
    "\n",
    "# Make predictions on the test set\n",
    "y_pred = rf_model.predict(X_test)\n",
    "\n",
    "# Calculate the R-squared score\n",
    "r2_rf = r2_score(y_test, y_pred)\n",
    "print(\"Random Forest R-squared score:\", r2_rf)"
   ]
  },
  {
   "cell_type": "code",
   "execution_count": 37,
   "id": "c694206d",
   "metadata": {},
   "outputs": [
    {
     "name": "stdout",
     "output_type": "stream",
     "text": [
      "Gradient Boosting R-squared score: 0.8911697175755026\n"
     ]
    }
   ],
   "source": [
    "from sklearn.ensemble import GradientBoostingRegressor\n",
    "\n",
    "# Create and train the Gradient Boosting model\n",
    "gb_model = GradientBoostingRegressor()\n",
    "gb_model.fit(X_train, y_train)\n",
    "\n",
    "# Make predictions on the test set\n",
    "y_pred = gb_model.predict(X_test)\n",
    "\n",
    "# Calculate the R-squared score\n",
    "r2_gb = r2_score(y_test, y_pred)\n",
    "print(\"Gradient Boosting R-squared score:\", r2_gb)"
   ]
  },
  {
   "cell_type": "code",
   "execution_count": null,
   "id": "10cf1101",
   "metadata": {},
   "outputs": [],
   "source": []
  },
  {
   "cell_type": "code",
   "execution_count": null,
   "id": "9d2b7499",
   "metadata": {},
   "outputs": [],
   "source": []
  }
 ],
 "metadata": {
  "kernelspec": {
   "display_name": "Python 3 (ipykernel)",
   "language": "python",
   "name": "python3"
  },
  "language_info": {
   "codemirror_mode": {
    "name": "ipython",
    "version": 3
   },
   "file_extension": ".py",
   "mimetype": "text/x-python",
   "name": "python",
   "nbconvert_exporter": "python",
   "pygments_lexer": "ipython3",
   "version": "3.9.5"
  }
 },
 "nbformat": 4,
 "nbformat_minor": 5
}
